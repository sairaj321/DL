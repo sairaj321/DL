{
  "nbformat": 4,
  "nbformat_minor": 0,
  "metadata": {
    "colab": {
      "provenance": [],
      "gpuType": "T4"
    },
    "kernelspec": {
      "name": "python3",
      "display_name": "Python 3"
    },
    "language_info": {
      "name": "python"
    },
    "accelerator": "GPU"
  },
  "cells": [
    {
      "cell_type": "code",
      "execution_count": 1,
      "metadata": {
        "colab": {
          "base_uri": "https://localhost:8080/"
        },
        "id": "E3kjAGyoDzTj",
        "outputId": "e81b8bd4-13f8-48f7-c150-0676aadc7d47"
      },
      "outputs": [
        {
          "output_type": "stream",
          "name": "stdout",
          "text": [
            "2.17.0\n"
          ]
        }
      ],
      "source": [
        "import tensorflow as tf\n",
        "print(tf.__version__)"
      ]
    },
    {
      "cell_type": "code",
      "source": [
        "#First create a scalar using tf.constant\n",
        "scalar=tf.constant(7)\n",
        "print(scalar)\n",
        "print(scalar.ndim)"
      ],
      "metadata": {
        "colab": {
          "base_uri": "https://localhost:8080/"
        },
        "id": "z6WEE9ItwDQA",
        "outputId": "4e1287a2-0af5-4083-c7d6-acb3e29e40a7"
      },
      "execution_count": 2,
      "outputs": [
        {
          "output_type": "stream",
          "name": "stdout",
          "text": [
            "tf.Tensor(7, shape=(), dtype=int32)\n",
            "0\n"
          ]
        }
      ]
    },
    {
      "cell_type": "code",
      "source": [
        "#create a vector\n",
        "vector=tf.constant([10,10])\n",
        "print(vector)\n",
        "print(vector.ndim)"
      ],
      "metadata": {
        "colab": {
          "base_uri": "https://localhost:8080/"
        },
        "id": "s2fdH59KwWuw",
        "outputId": "29a6305d-f562-43ba-c563-632c209bd913"
      },
      "execution_count": 3,
      "outputs": [
        {
          "output_type": "stream",
          "name": "stdout",
          "text": [
            "tf.Tensor([10 10], shape=(2,), dtype=int32)\n",
            "1\n"
          ]
        }
      ]
    },
    {
      "cell_type": "code",
      "source": [
        "#creating matrix\n",
        "matrix=tf.constant([[10,11],[12,13]])\n",
        "print(matrix)\n",
        "print(matrix.ndim)"
      ],
      "metadata": {
        "colab": {
          "base_uri": "https://localhost:8080/"
        },
        "id": "Sp6ik1dbwc8d",
        "outputId": "5a12a27c-d906-4dd1-e87b-c24da6c0c182"
      },
      "execution_count": 4,
      "outputs": [
        {
          "output_type": "stream",
          "name": "stdout",
          "text": [
            "tf.Tensor(\n",
            "[[10 11]\n",
            " [12 13]], shape=(2, 2), dtype=int32)\n",
            "2\n"
          ]
        }
      ]
    },
    {
      "cell_type": "code",
      "source": [
        "#Simple calculation using tensor\n",
        "basic_tensor=tf.constant([[10,11],[12,13]])\n",
        "print(basic_tensor)"
      ],
      "metadata": {
        "colab": {
          "base_uri": "https://localhost:8080/"
        },
        "id": "E2WF1GAvwgne",
        "outputId": "76e2b39d-9df9-40e8-ad8e-6bd4f341a3f8"
      },
      "execution_count": 5,
      "outputs": [
        {
          "output_type": "stream",
          "name": "stdout",
          "text": [
            "tf.Tensor(\n",
            "[[10 11]\n",
            " [12 13]], shape=(2, 2), dtype=int32)\n"
          ]
        }
      ]
    },
    {
      "cell_type": "code",
      "source": [
        "# add, substract, multiply, divide\n",
        "print(basic_tensor+10)\n",
        "print(basic_tensor-10)\n",
        "print(basic_tensor*10)\n",
        "print(basic_tensor/10)"
      ],
      "metadata": {
        "colab": {
          "base_uri": "https://localhost:8080/"
        },
        "id": "3SvdKPN1wji3",
        "outputId": "82110f99-61a3-4f3f-e7bf-b271a39e6c17"
      },
      "execution_count": 6,
      "outputs": [
        {
          "output_type": "stream",
          "name": "stdout",
          "text": [
            "tf.Tensor(\n",
            "[[20 21]\n",
            " [22 23]], shape=(2, 2), dtype=int32)\n",
            "tf.Tensor(\n",
            "[[0 1]\n",
            " [2 3]], shape=(2, 2), dtype=int32)\n",
            "tf.Tensor(\n",
            "[[100 110]\n",
            " [120 130]], shape=(2, 2), dtype=int32)\n",
            "tf.Tensor(\n",
            "[[1.  1.1]\n",
            " [1.2 1.3]], shape=(2, 2), dtype=float64)\n"
          ]
        }
      ]
    },
    {
      "cell_type": "code",
      "source": [
        "#matrix multiplication\n",
        "tensor_011=tf.constant([[2,2],[4,4]])\n",
        "tensor_012=tf.constant([[2,3],[4,5]])\n",
        "print(tf.matmul(tensor_011, tensor_012))"
      ],
      "metadata": {
        "colab": {
          "base_uri": "https://localhost:8080/"
        },
        "id": "rpr7s1uJwnJf",
        "outputId": "fcde0a55-b1c2-4db1-b282-2b34699ce854"
      },
      "execution_count": 7,
      "outputs": [
        {
          "output_type": "stream",
          "name": "stdout",
          "text": [
            "tf.Tensor(\n",
            "[[12 16]\n",
            " [24 32]], shape=(2, 2), dtype=int32)\n"
          ]
        }
      ]
    },
    {
      "cell_type": "code",
      "source": [
        "#To find max and min value\n",
        "tensor_013=tf.constant([[1,2,3],[4,5,6],[7,8,9]], dtype='float32')\n",
        "print(tf.reduce_min(tensor_013))\n",
        "print(tf.reduce_max(tensor_013))\n",
        "print(tf.reduce_sum(tensor_013))"
      ],
      "metadata": {
        "colab": {
          "base_uri": "https://localhost:8080/"
        },
        "id": "60C7_ReYwrxR",
        "outputId": "8684e27b-fc3d-4cee-d3fc-0f75234906d8"
      },
      "execution_count": 8,
      "outputs": [
        {
          "output_type": "stream",
          "name": "stdout",
          "text": [
            "tf.Tensor(1.0, shape=(), dtype=float32)\n",
            "tf.Tensor(9.0, shape=(), dtype=float32)\n",
            "tf.Tensor(45.0, shape=(), dtype=float32)\n"
          ]
        }
      ]
    },
    {
      "cell_type": "code",
      "source": [
        "#square, square root, and log\n",
        "print(tf.square(tensor_013))\n",
        "print(tf.sqrt(tensor_013))\n",
        "print(tf.math.log(tensor_013))"
      ],
      "metadata": {
        "colab": {
          "base_uri": "https://localhost:8080/"
        },
        "id": "47jN8Gcswt0H",
        "outputId": "db4ade18-9237-415f-f520-e431af58c62b"
      },
      "execution_count": 9,
      "outputs": [
        {
          "output_type": "stream",
          "name": "stdout",
          "text": [
            "tf.Tensor(\n",
            "[[ 1.  4.  9.]\n",
            " [16. 25. 36.]\n",
            " [49. 64. 81.]], shape=(3, 3), dtype=float32)\n",
            "tf.Tensor(\n",
            "[[1.        1.4142135 1.7320508]\n",
            " [2.        2.236068  2.4494898]\n",
            " [2.6457512 2.828427  3.       ]], shape=(3, 3), dtype=float32)\n",
            "tf.Tensor(\n",
            "[[0.        0.6931472 1.0986123]\n",
            " [1.3862944 1.609438  1.7917595]\n",
            " [1.9459102 2.0794415 2.1972246]], shape=(3, 3), dtype=float32)\n"
          ]
        }
      ]
    },
    {
      "cell_type": "code",
      "source": [],
      "metadata": {
        "id": "fHCZkP3Xwwri"
      },
      "execution_count": null,
      "outputs": []
    }
  ]
}