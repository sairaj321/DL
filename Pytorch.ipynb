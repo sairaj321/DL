{
  "nbformat": 4,
  "nbformat_minor": 0,
  "metadata": {
    "colab": {
      "provenance": [],
      "gpuType": "T4"
    },
    "kernelspec": {
      "name": "python3",
      "display_name": "Python 3"
    },
    "language_info": {
      "name": "python"
    },
    "accelerator": "GPU"
  },
  "cells": [
    {
      "cell_type": "code",
      "execution_count": 1,
      "metadata": {
        "colab": {
          "base_uri": "https://localhost:8080/"
        },
        "id": "oYGHvhKm4qT5",
        "outputId": "42a09912-1167-4524-8754-624b8693655c"
      },
      "outputs": [
        {
          "output_type": "stream",
          "name": "stdout",
          "text": [
            "Tensor t1: \n",
            " tensor([1, 2, 3, 4])\n",
            "\n",
            "tensor t2:\n",
            " tensor([[ 1,  2,  3,  4],\n",
            "        [ 5,  6,  7,  8],\n",
            "        [ 9, 10, 11, 12]])\n",
            "\n",
            "Rank of t1: 1\n",
            "Rank of t2: 2\n",
            "\n",
            "Rank of t1: torch.Size([4])\n",
            "Rank of t2: torch.Size([3, 4])\n"
          ]
        }
      ],
      "source": [
        "import torch\n",
        "#creating a tensors\n",
        "t1=torch.tensor([1,2,3,4])\n",
        "t2=torch.tensor([[1,2,3,4],[5,6,7,8],[9,10,11,12]])\n",
        "#printing the tensors:\n",
        "print(\"Tensor t1: \\n\",t1)\n",
        "print(\"\\ntensor t2:\\n\",t2)\n",
        "#rank of tensors:\n",
        "print(\"\\nRank of t1:\",len(t1.shape))\n",
        "print(\"Rank of t2:\",len(t2.shape))\n",
        "#shape of tensors\n",
        "print(\"\\nRank of t1:\",t1.shape)\n",
        "print(\"Rank of t2:\",t2.shape)"
      ]
    },
    {
      "cell_type": "code",
      "source": [
        "import torch\n",
        "import numpy as np\n",
        "#list of values to be stored as tensor\n",
        "data1=[1,2,3,4,5,6]\n",
        "data2=np.array([1,2,3,4,6.8,9.3,7.0,2.8])\n",
        "#creating tensors and printing\n",
        "t1=torch.tensor(data1)\n",
        "t2=torch.tensor(data1)\n",
        "t3=torch.tensor(data2)\n",
        "t4=torch.from_numpy(data2)\n",
        "print(\"Tensor:\",t1,\"Data type:\",t1.dtype,\"\\n\")\n",
        "print(\"Tensor:\",t2,\"Data type:\",t2.dtype,\"\\n\")\n",
        "print(\"Tensor:\",t3,\"Data type:\",t3.dtype,\"\\n\")\n",
        "print(\"Tensor:\",t4,\"Data type:\",t4.dtype,\"\\n\")"
      ],
      "metadata": {
        "colab": {
          "base_uri": "https://localhost:8080/"
        },
        "id": "3m602YRm45u1",
        "outputId": "3def7eda-07d1-41ea-fa18-cce7a7575175"
      },
      "execution_count": 2,
      "outputs": [
        {
          "output_type": "stream",
          "name": "stdout",
          "text": [
            "Tensor: tensor([1, 2, 3, 4, 5, 6]) Data type: torch.int64 \n",
            "\n",
            "Tensor: tensor([1, 2, 3, 4, 5, 6]) Data type: torch.int64 \n",
            "\n",
            "Tensor: tensor([1.0000, 2.0000, 3.0000, 4.0000, 6.8000, 9.3000, 7.0000, 2.8000],\n",
            "       dtype=torch.float64) Data type: torch.float64 \n",
            "\n",
            "Tensor: tensor([1.0000, 2.0000, 3.0000, 4.0000, 6.8000, 9.3000, 7.0000, 2.8000],\n",
            "       dtype=torch.float64) Data type: torch.float64 \n",
            "\n"
          ]
        }
      ]
    },
    {
      "cell_type": "code",
      "source": [
        "import torch\n",
        "#defining tensor\n",
        "t=torch.tensor([[1,2,3,4],[5,6,7,8],[9,10,11,12]])\n",
        "#reshaping the tensor\n",
        "print(\"Reshaping\")\n",
        "print(t.reshape(6,2))\n",
        "#resizing the tensor\n",
        "print(\"\\nResizing\")\n",
        "print(t.resize(2,6))\n",
        "#transposing the tensor\n",
        "print(\"\\nTransposing\")\n",
        "print(t.transpose(1,0))"
      ],
      "metadata": {
        "colab": {
          "base_uri": "https://localhost:8080/"
        },
        "id": "3uByw7ua5GKP",
        "outputId": "f736cbbe-0c41-455a-c402-d4ad72b5a2d9"
      },
      "execution_count": 3,
      "outputs": [
        {
          "output_type": "stream",
          "name": "stdout",
          "text": [
            "Reshaping\n",
            "tensor([[ 1,  2],\n",
            "        [ 3,  4],\n",
            "        [ 5,  6],\n",
            "        [ 7,  8],\n",
            "        [ 9, 10],\n",
            "        [11, 12]])\n",
            "\n",
            "Resizing\n",
            "tensor([[ 1,  2,  3,  4,  5,  6],\n",
            "        [ 7,  8,  9, 10, 11, 12]])\n",
            "\n",
            "Transposing\n",
            "tensor([[ 1,  5,  9],\n",
            "        [ 2,  6, 10],\n",
            "        [ 3,  7, 11],\n",
            "        [ 4,  8, 12]])\n"
          ]
        },
        {
          "output_type": "stream",
          "name": "stderr",
          "text": [
            "/usr/local/lib/python3.10/dist-packages/torch/_tensor.py:955: UserWarning: non-inplace resize is deprecated\n",
            "  warnings.warn(\"non-inplace resize is deprecated\")\n"
          ]
        }
      ]
    },
    {
      "cell_type": "code",
      "source": [
        "import torch\n",
        "#defining two tensors\n",
        "t1=torch.tensor([1,2,3,4])\n",
        "t2=torch.tensor([5,6,7,8])\n",
        "#adding two tensors\n",
        "print(\"tensor2+tensor1\")\n",
        "print(torch.add(t2,t1))\n",
        "#subtracting two tensor\n",
        "print(\"\\ntensor2-tensor1\")\n",
        "print(torch.sub(t2,t1))\n",
        "#multiplying two tensors\n",
        "print(\"\\ntensor2*tensor1\")\n",
        "print(torch.mul(t2,t1))\n",
        "#dividing two tensors\n",
        "print(\"\\ntensor2/tensor1\")\n",
        "print(torch.div(t2,t1))"
      ],
      "metadata": {
        "colab": {
          "base_uri": "https://localhost:8080/"
        },
        "id": "Q8oGioPg5KYW",
        "outputId": "f1740c90-ea86-40dc-bf95-fe5d7f8ffd32"
      },
      "execution_count": 4,
      "outputs": [
        {
          "output_type": "stream",
          "name": "stdout",
          "text": [
            "tensor2+tensor1\n",
            "tensor([ 6,  8, 10, 12])\n",
            "\n",
            "tensor2-tensor1\n",
            "tensor([4, 4, 4, 4])\n",
            "\n",
            "tensor2*tensor1\n",
            "tensor([ 5, 12, 21, 32])\n",
            "\n",
            "tensor2/tensor1\n",
            "tensor([5.0000, 3.0000, 2.3333, 2.0000])\n"
          ]
        }
      ]
    },
    {
      "cell_type": "code",
      "source": [
        "import torch\n",
        "#creating a tensor\n",
        "t1=torch.tensor(1.0,requires_grad=True)\n",
        "t2=torch.tensor(2.0,requires_grad=True)\n",
        "#creating a variable and gradient\n",
        "z=100*t1*t2\n",
        "z.backward()\n",
        "#printing gradient\n",
        "print(\"dz/dt1:\",t1.grad.data)\n",
        "print(\"dz/dt2:\",t2.grad.data)"
      ],
      "metadata": {
        "colab": {
          "base_uri": "https://localhost:8080/"
        },
        "id": "P8pYMtTc5NhU",
        "outputId": "02a54554-1cb1-4ade-d6cf-4b3f3cf017ce"
      },
      "execution_count": 5,
      "outputs": [
        {
          "output_type": "stream",
          "name": "stdout",
          "text": [
            "dz/dt1: tensor(200.)\n",
            "dz/dt2: tensor(100.)\n"
          ]
        }
      ]
    },
    {
      "cell_type": "code",
      "source": [],
      "metadata": {
        "id": "c7MNsWgC5TFH"
      },
      "execution_count": null,
      "outputs": []
    }
  ]
}